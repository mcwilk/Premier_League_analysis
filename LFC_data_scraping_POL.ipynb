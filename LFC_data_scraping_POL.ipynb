{
 "cells": [
  {
   "cell_type": "markdown",
   "metadata": {},
   "source": [
    "## Web scraping LFC"
   ]
  },
  {
   "cell_type": "markdown",
   "metadata": {},
   "source": [
    "Poniższy kod pobiera dane z witryny www.transfermarkt.pl dotyczące wyników Liverpoolu na koniec sezonu w latach 63/64 - 19/20*. "
   ]
  },
  {
   "cell_type": "code",
   "execution_count": 1,
   "metadata": {},
   "outputs": [],
   "source": [
    "import pandas as pd\n",
    "import requests\n",
    "from bs4 import BeautifulSoup"
   ]
  },
  {
   "cell_type": "code",
   "execution_count": 2,
   "metadata": {},
   "outputs": [],
   "source": [
    "# Pobranie zawartości strony\n",
    "url = 'https://www.transfermarkt.pl/fc-liverpool/platzierungen/verein/31'\n",
    "headers = {'User-Agent':\n",
    "          'Mozilla/5.0 (Windows NT 6.3; Win64; x64; rv:57.0) Gecko/20100101 Firefox/57.0'}\n",
    "response = requests.get(url, headers=headers)\n",
    "soup = BeautifulSoup(response.text, 'html.parser')"
   ]
  },
  {
   "cell_type": "code",
   "execution_count": 114,
   "metadata": {},
   "outputs": [],
   "source": [
    "# Parsowanie interesującej nas zawartość (tabeli z danymi dot. sezonów)\n",
    "table_content = soup.find_all(class_=['zentriert', 'rechts'])\n",
    "\n",
    "data = []\n",
    "seasons = {}\n",
    "\n",
    "# Pętla do utworzenia listy 'data' z pobranymi danymi dot. poszczególnych sezonów\n",
    "for i in range(10,(len(table_content))):\n",
    "    \n",
    "    if i % 11 != 0:\n",
    "        \n",
    "        if i % 11 == 5:\n",
    "            goals = table_content[i].text.split(':')\n",
    "            data.append(goals[0])\n",
    "            data.append(goals[1])\n",
    "        elif i % 11 == 7:\n",
    "            if ':' in table_content[i].text:\n",
    "                points = table_content[i].text.split(':')\n",
    "                data.append(points[0])\n",
    "            else:\n",
    "                data.append(table_content[i].text)\n",
    "        else:\n",
    "            data.append(table_content[i].text)\n",
    "\n",
    "# Pętla tworząca słownik, który posłuży do zmiany formatu zapisu sezonów\n",
    "for year in range(1963, 2020):\n",
    "    \n",
    "    start = year\n",
    "    stop = year + 1\n",
    "    short = str(year)[2:]\n",
    "    old_format = '{}/{}'.format(str(start)[2:], str(stop)[2:])\n",
    "    new_format = '{}-{}'.format(start, stop)\n",
    "    seasons[old_format] = new_format"
   ]
  },
  {
   "cell_type": "code",
   "execution_count": 123,
   "metadata": {},
   "outputs": [],
   "source": [
    "# Kolumny do DataFrame\n",
    "columns = ['season', 'league', 'W', 'D', 'L', 'goals_scored', 'goals_conceded', 'goals_diff', 'points', 'place', 'coach']\n",
    "\n",
    "# Dane do DataFrame\n",
    "data_dict = {}\n",
    "\n",
    "# Pętla tworząca klucze słownika i odpowiadające im puste listy\n",
    "for c in columns:   \n",
    "    data_dict[c] = []\n",
    "\n",
    "# Pętla do uzupełnienia zescrapowanymi danymi listy wartości dla każdego klucza słownika 'data_dict'\n",
    "for j in range(0, len(data)):\n",
    "    \n",
    "    if j % 11 == 0:\n",
    "        new_format = seasons[data[j]]\n",
    "        data_dict['season'].append(new_format)\n",
    "    \n",
    "    elif j % 11 == 1:\n",
    "        if j < data.index('91/92'):\n",
    "            data_dict['league'].append('Premier League') \n",
    "        else:\n",
    "            data_dict['league'].append('First Division')\n",
    "\n",
    "    elif j % 11 == 2:\n",
    "        data_dict['W'].append(data[j])\n",
    "\n",
    "    elif j % 11 == 3:\n",
    "        data_dict['D'].append(data[j])\n",
    "\n",
    "    elif j % 11 == 4:\n",
    "        data_dict['L'].append(data[j])\n",
    "\n",
    "    elif j % 11 == 5:\n",
    "        data_dict['goals_scored'].append(data[j])\n",
    "\n",
    "    elif j % 11 == 6:\n",
    "        data_dict['goals_conceded'].append(data[j])\n",
    "\n",
    "    elif j % 11 == 7:\n",
    "        data_dict['goals_diff'].append(data[j])        \n",
    "\n",
    "    elif j % 11 == 8:\n",
    "        data_dict['points'].append(data[j])        \n",
    "\n",
    "    elif j % 11 == 9:\n",
    "        data_dict['place'].append(data[j])           \n",
    "\n",
    "    elif j % 11 == 10:\n",
    "        data_dict['coach'].append(data[j])   \n",
    "\n"
   ]
  },
  {
   "cell_type": "code",
   "execution_count": 125,
   "metadata": {},
   "outputs": [],
   "source": [
    "# Utworzenie DataFrame i zapisanie do pliku CSV\n",
    "df = pd.DataFrame(data_dict)\n",
    "df.to_csv('LFC_seasons.csv', index=False)"
   ]
  }
 ],
 "metadata": {
  "kernelspec": {
   "display_name": "Python 3",
   "language": "python",
   "name": "python3"
  },
  "language_info": {
   "codemirror_mode": {
    "name": "ipython",
    "version": 3
   },
   "file_extension": ".py",
   "mimetype": "text/x-python",
   "name": "python",
   "nbconvert_exporter": "python",
   "pygments_lexer": "ipython3",
   "version": "3.7.4"
  }
 },
 "nbformat": 4,
 "nbformat_minor": 2
}
